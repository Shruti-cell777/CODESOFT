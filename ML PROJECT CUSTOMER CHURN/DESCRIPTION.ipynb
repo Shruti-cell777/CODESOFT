{
 "cells": [
  {
   "cell_type": "markdown",
   "id": "97914686",
   "metadata": {},
   "source": [
    "# CUSTOMER CHURN PREDICTION"
   ]
  },
  {
   "cell_type": "markdown",
   "id": "ad33fdfb",
   "metadata": {},
   "source": [
    "## PROJECT OVERVIEW:"
   ]
  },
  {
   "cell_type": "raw",
   "id": "5bfeb6d7",
   "metadata": {},
   "source": [
    "My main objective of the The Bank Customer Churn Prediction is to analaze the demographic and financial information of bank customers, including factors like age, active member or not\n",
    "Tenure, balance, country,gender and more to predict whether a customer will leave the bank or not.\n",
    "Customer Churn, is basicalliy decision of the customers to leave the bank or not. It can significantly \n",
    "impact the bank's business and profitability. By accurately predicting customer churn, the bank can take necessary mesures to retain its customers who may leave the bank in the future."
   ]
  },
  {
   "cell_type": "markdown",
   "id": "26d97f86",
   "metadata": {},
   "source": [
    "### Libraries used"
   ]
  },
  {
   "cell_type": "raw",
   "id": "15c7dba5",
   "metadata": {},
   "source": [
    " pandas as pd\n",
    " numpy as np\n",
    " matplotlib.pyplot as plt\n",
    " seaborn as sns\n"
   ]
  },
  {
   "cell_type": "raw",
   "id": "7eacfdcc",
   "metadata": {},
   "source": [
    "From the exploratory data analysis, I have concluded that the churn count of the customers depends upon the following -\n",
    "\n",
    "\n",
    "\n",
    "1-Age\n",
    "2-Tenure\n",
    "3-Balance\n",
    "4-Number of products \n",
    "5- Has credit card or not\n",
    "6-Is active member or not\n",
    "7-Geography"
   ]
  },
  {
   "cell_type": "markdown",
   "id": "8557bc82",
   "metadata": {},
   "source": [
    "# Classification models used"
   ]
  },
  {
   "cell_type": "raw",
   "id": "50f4fc49",
   "metadata": {},
   "source": [
    "1-Decision tree classifier\n",
    "2- Random Forest classifier\n",
    "\n",
    "\n",
    "Both the models are hyperparameter tuned using GridSearchCv. Both  have nearly equal accuracy score. But Random forest Classifier has a better accuracy and precision score."
   ]
  },
  {
   "cell_type": "markdown",
   "id": "c512c595",
   "metadata": {},
   "source": [
    "## EXPLORATIVE DATA ANALYSIS"
   ]
  },
  {
   "cell_type": "raw",
   "id": "5405dc0e",
   "metadata": {},
   "source": [
    "\n",
    "For explorative data Analysis. We looked at the distribution of the data, the coorelation between features and the \n",
    "target variable by pie chart(customer churn), heatmap (matrix heatmap),histogram(estimated salary ,active member) , \n",
    "violin plot, boxplot,(credit scores).\n"
   ]
  }
 ],
 "metadata": {
  "kernelspec": {
   "display_name": "Python 3 (ipykernel)",
   "language": "python",
   "name": "python3"
  },
  "language_info": {
   "codemirror_mode": {
    "name": "ipython",
    "version": 3
   },
   "file_extension": ".py",
   "mimetype": "text/x-python",
   "name": "python",
   "nbconvert_exporter": "python",
   "pygments_lexer": "ipython3",
   "version": "3.9.7"
  }
 },
 "nbformat": 4,
 "nbformat_minor": 5
}
